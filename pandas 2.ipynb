{
 "cells": [
  {
   "cell_type": "code",
   "execution_count": 6,
   "metadata": {},
   "outputs": [],
   "source": [
    "import pandas as pd\n",
    "df = pd.read_csv('otgr.csv', delimiter = ';')"
   ]
  },
  {
   "cell_type": "code",
   "execution_count": 9,
   "metadata": {},
   "outputs": [
    {
     "data": {
      "text/html": [
       "<div>\n",
       "<style scoped>\n",
       "    .dataframe tbody tr th:only-of-type {\n",
       "        vertical-align: middle;\n",
       "    }\n",
       "\n",
       "    .dataframe tbody tr th {\n",
       "        vertical-align: top;\n",
       "    }\n",
       "\n",
       "    .dataframe thead th {\n",
       "        text-align: right;\n",
       "    }\n",
       "</style>\n",
       "<table border=\"1\" class=\"dataframe\">\n",
       "  <thead>\n",
       "    <tr style=\"text-align: right;\">\n",
       "      <th></th>\n",
       "      <th>ME_NUMCDE</th>\n",
       "      <th>ME_LIVREA</th>\n",
       "      <th>ME_CPROIN</th>\n",
       "      <th>ME_NQTUVC</th>\n",
       "      <th>AR_VOLSPCB</th>\n",
       "      <th>TRUNC(ME_DATEXP)</th>\n",
       "    </tr>\n",
       "  </thead>\n",
       "  <tbody>\n",
       "    <tr>\n",
       "      <td>0</td>\n",
       "      <td>PO0017KOH0</td>\n",
       "      <td>F189</td>\n",
       "      <td>768750</td>\n",
       "      <td>24</td>\n",
       "      <td>0.3</td>\n",
       "      <td>02.19.2019</td>\n",
       "    </tr>\n",
       "    <tr>\n",
       "      <td>1</td>\n",
       "      <td>PO0017KOH0</td>\n",
       "      <td>F189</td>\n",
       "      <td>716092</td>\n",
       "      <td>28</td>\n",
       "      <td>0.4</td>\n",
       "      <td>02.19.2019</td>\n",
       "    </tr>\n",
       "    <tr>\n",
       "      <td>2</td>\n",
       "      <td>PO0017KOH0</td>\n",
       "      <td>F189</td>\n",
       "      <td>594564</td>\n",
       "      <td>24</td>\n",
       "      <td>0.3</td>\n",
       "      <td>02.19.2019</td>\n",
       "    </tr>\n",
       "    <tr>\n",
       "      <td>3</td>\n",
       "      <td>PO0017KOH0</td>\n",
       "      <td>F189</td>\n",
       "      <td>640047</td>\n",
       "      <td>24</td>\n",
       "      <td>0.2</td>\n",
       "      <td>02.19.2019</td>\n",
       "    </tr>\n",
       "    <tr>\n",
       "      <td>4</td>\n",
       "      <td>PO0017KOH0</td>\n",
       "      <td>F189</td>\n",
       "      <td>640050</td>\n",
       "      <td>24</td>\n",
       "      <td>0.3</td>\n",
       "      <td>02.19.2019</td>\n",
       "    </tr>\n",
       "    <tr>\n",
       "      <td>...</td>\n",
       "      <td>...</td>\n",
       "      <td>...</td>\n",
       "      <td>...</td>\n",
       "      <td>...</td>\n",
       "      <td>...</td>\n",
       "      <td>...</td>\n",
       "    </tr>\n",
       "    <tr>\n",
       "      <td>55628</td>\n",
       "      <td>PO00160AJ0</td>\n",
       "      <td>S790</td>\n",
       "      <td>40147</td>\n",
       "      <td>1</td>\n",
       "      <td>144.0</td>\n",
       "      <td>12.10.2018</td>\n",
       "    </tr>\n",
       "    <tr>\n",
       "      <td>55629</td>\n",
       "      <td>PO00160AJ0</td>\n",
       "      <td>S790</td>\n",
       "      <td>40147</td>\n",
       "      <td>1</td>\n",
       "      <td>144.0</td>\n",
       "      <td>12.10.2018</td>\n",
       "    </tr>\n",
       "    <tr>\n",
       "      <td>55630</td>\n",
       "      <td>PO00160AJ0</td>\n",
       "      <td>S790</td>\n",
       "      <td>40147</td>\n",
       "      <td>1</td>\n",
       "      <td>144.0</td>\n",
       "      <td>12.10.2018</td>\n",
       "    </tr>\n",
       "    <tr>\n",
       "      <td>55631</td>\n",
       "      <td>PO00160AJ0</td>\n",
       "      <td>S790</td>\n",
       "      <td>40147</td>\n",
       "      <td>1</td>\n",
       "      <td>144.0</td>\n",
       "      <td>12.10.2018</td>\n",
       "    </tr>\n",
       "    <tr>\n",
       "      <td>55632</td>\n",
       "      <td>PA510004FG</td>\n",
       "      <td>S790</td>\n",
       "      <td>40147</td>\n",
       "      <td>1</td>\n",
       "      <td>144.0</td>\n",
       "      <td>12.10.2018</td>\n",
       "    </tr>\n",
       "  </tbody>\n",
       "</table>\n",
       "<p>55633 rows × 6 columns</p>\n",
       "</div>"
      ],
      "text/plain": [
       "        ME_NUMCDE ME_LIVREA  ME_CPROIN ME_NQTUVC  AR_VOLSPCB TRUNC(ME_DATEXP)\n",
       "0      PO0017KOH0      F189     768750        24         0.3       02.19.2019\n",
       "1      PO0017KOH0      F189     716092        28         0.4       02.19.2019\n",
       "2      PO0017KOH0      F189     594564        24         0.3       02.19.2019\n",
       "3      PO0017KOH0      F189     640047        24         0.2       02.19.2019\n",
       "4      PO0017KOH0      F189     640050        24         0.3       02.19.2019\n",
       "...           ...       ...        ...       ...         ...              ...\n",
       "55628  PO00160AJ0      S790      40147         1       144.0       12.10.2018\n",
       "55629  PO00160AJ0      S790      40147         1       144.0       12.10.2018\n",
       "55630  PO00160AJ0      S790      40147         1       144.0       12.10.2018\n",
       "55631  PO00160AJ0      S790      40147         1       144.0       12.10.2018\n",
       "55632  PA510004FG      S790      40147         1       144.0       12.10.2018\n",
       "\n",
       "[55633 rows x 6 columns]"
      ]
     },
     "execution_count": 9,
     "metadata": {},
     "output_type": "execute_result"
    }
   ],
   "source": [
    "df"
   ]
  },
  {
   "cell_type": "markdown",
   "metadata": {},
   "source": [
    "Подсчет значений в таблице"
   ]
  },
  {
   "cell_type": "code",
   "execution_count": 7,
   "metadata": {},
   "outputs": [
    {
     "data": {
      "text/plain": [
       "ME_NUMCDE           55633\n",
       "ME_LIVREA           55633\n",
       "ME_CPROIN           55633\n",
       "ME_NQTUVC           55633\n",
       "AR_VOLSPCB          55633\n",
       "TRUNC(ME_DATEXP)    55633\n",
       "dtype: int64"
      ]
     },
     "execution_count": 7,
     "metadata": {},
     "output_type": "execute_result"
    }
   ],
   "source": [
    "df.count()"
   ]
  },
  {
   "cell_type": "code",
   "execution_count": 20,
   "metadata": {},
   "outputs": [
    {
     "data": {
      "text/plain": [
       "AR_VOLSPCB    55633\n",
       "dtype: int64"
      ]
     },
     "execution_count": 20,
     "metadata": {},
     "output_type": "execute_result"
    }
   ],
   "source": [
    "df[['AR_VOLSPCB']].count()"
   ]
  },
  {
   "cell_type": "code",
   "execution_count": 19,
   "metadata": {},
   "outputs": [
    {
     "data": {
      "text/plain": [
       "55633"
      ]
     },
     "execution_count": 19,
     "metadata": {},
     "output_type": "execute_result"
    }
   ],
   "source": [
    "df.AR_VOLSPCB.count() #так будет лучше"
   ]
  },
  {
   "cell_type": "markdown",
   "metadata": {},
   "source": [
    "Агрегация данных"
   ]
  },
  {
   "cell_type": "code",
   "execution_count": 21,
   "metadata": {},
   "outputs": [
    {
     "data": {
      "text/plain": [
       "348212.3999999999"
      ]
     },
     "execution_count": 21,
     "metadata": {},
     "output_type": "execute_result"
    }
   ],
   "source": [
    "df.AR_VOLSPCB.sum()"
   ]
  },
  {
   "cell_type": "code",
   "execution_count": 40,
   "metadata": {},
   "outputs": [
    {
     "data": {
      "text/plain": [
       "0.0"
      ]
     },
     "execution_count": 40,
     "metadata": {},
     "output_type": "execute_result"
    }
   ],
   "source": [
    "df.AR_VOLSPCB.min()"
   ]
  },
  {
   "cell_type": "code",
   "execution_count": 30,
   "metadata": {},
   "outputs": [
    {
     "data": {
      "text/plain": [
       "202.8"
      ]
     },
     "execution_count": 30,
     "metadata": {},
     "output_type": "execute_result"
    }
   ],
   "source": [
    "df.AR_VOLSPCB.max()"
   ]
  },
  {
   "cell_type": "markdown",
   "metadata": {},
   "source": [
    "Среднестатистическое значение"
   ]
  },
  {
   "cell_type": "code",
   "execution_count": 31,
   "metadata": {},
   "outputs": [
    {
     "data": {
      "text/plain": [
       "6.259098017363793"
      ]
     },
     "execution_count": 31,
     "metadata": {},
     "output_type": "execute_result"
    }
   ],
   "source": [
    "df.AR_VOLSPCB.mean()"
   ]
  },
  {
   "cell_type": "markdown",
   "metadata": {},
   "source": [
    "Медиана"
   ]
  },
  {
   "cell_type": "code",
   "execution_count": 32,
   "metadata": {},
   "outputs": [
    {
     "data": {
      "text/plain": [
       "1.3"
      ]
     },
     "execution_count": 32,
     "metadata": {},
     "output_type": "execute_result"
    }
   ],
   "source": [
    "df.AR_VOLSPCB.median()"
   ]
  },
  {
   "cell_type": "markdown",
   "metadata": {},
   "source": [
    "group by"
   ]
  },
  {
   "cell_type": "code",
   "execution_count": 39,
   "metadata": {},
   "outputs": [
    {
     "data": {
      "text/html": [
       "<div>\n",
       "<style scoped>\n",
       "    .dataframe tbody tr th:only-of-type {\n",
       "        vertical-align: middle;\n",
       "    }\n",
       "\n",
       "    .dataframe tbody tr th {\n",
       "        vertical-align: top;\n",
       "    }\n",
       "\n",
       "    .dataframe thead th {\n",
       "        text-align: right;\n",
       "    }\n",
       "</style>\n",
       "<table border=\"1\" class=\"dataframe\">\n",
       "  <thead>\n",
       "    <tr style=\"text-align: right;\">\n",
       "      <th></th>\n",
       "      <th>AR_VOLSPCB</th>\n",
       "    </tr>\n",
       "    <tr>\n",
       "      <th>ME_CPROIN</th>\n",
       "      <th></th>\n",
       "    </tr>\n",
       "  </thead>\n",
       "  <tbody>\n",
       "    <tr>\n",
       "      <td>21</td>\n",
       "      <td>18.0</td>\n",
       "    </tr>\n",
       "    <tr>\n",
       "      <td>55</td>\n",
       "      <td>0.7</td>\n",
       "    </tr>\n",
       "    <tr>\n",
       "      <td>56</td>\n",
       "      <td>0.7</td>\n",
       "    </tr>\n",
       "    <tr>\n",
       "      <td>117</td>\n",
       "      <td>3.6</td>\n",
       "    </tr>\n",
       "    <tr>\n",
       "      <td>118</td>\n",
       "      <td>3.5</td>\n",
       "    </tr>\n",
       "    <tr>\n",
       "      <td>...</td>\n",
       "      <td>...</td>\n",
       "    </tr>\n",
       "    <tr>\n",
       "      <td>779987</td>\n",
       "      <td>2.0</td>\n",
       "    </tr>\n",
       "    <tr>\n",
       "      <td>779988</td>\n",
       "      <td>2.0</td>\n",
       "    </tr>\n",
       "    <tr>\n",
       "      <td>779989</td>\n",
       "      <td>2.0</td>\n",
       "    </tr>\n",
       "    <tr>\n",
       "      <td>785137</td>\n",
       "      <td>11.3</td>\n",
       "    </tr>\n",
       "    <tr>\n",
       "      <td>800172</td>\n",
       "      <td>3.4</td>\n",
       "    </tr>\n",
       "  </tbody>\n",
       "</table>\n",
       "<p>8238 rows × 1 columns</p>\n",
       "</div>"
      ],
      "text/plain": [
       "           AR_VOLSPCB\n",
       "ME_CPROIN            \n",
       "21               18.0\n",
       "55                0.7\n",
       "56                0.7\n",
       "117               3.6\n",
       "118               3.5\n",
       "...               ...\n",
       "779987            2.0\n",
       "779988            2.0\n",
       "779989            2.0\n",
       "785137           11.3\n",
       "800172            3.4\n",
       "\n",
       "[8238 rows x 1 columns]"
      ]
     },
     "execution_count": 39,
     "metadata": {},
     "output_type": "execute_result"
    }
   ],
   "source": [
    "df.groupby('ME_CPROIN').mean()"
   ]
  },
  {
   "cell_type": "markdown",
   "metadata": {},
   "source": [
    "Select всех артикулов с объемом штучки == 0"
   ]
  },
  {
   "cell_type": "code",
   "execution_count": 52,
   "metadata": {},
   "outputs": [
    {
     "data": {
      "text/html": [
       "<div>\n",
       "<style scoped>\n",
       "    .dataframe tbody tr th:only-of-type {\n",
       "        vertical-align: middle;\n",
       "    }\n",
       "\n",
       "    .dataframe tbody tr th {\n",
       "        vertical-align: top;\n",
       "    }\n",
       "\n",
       "    .dataframe thead th {\n",
       "        text-align: right;\n",
       "    }\n",
       "</style>\n",
       "<table border=\"1\" class=\"dataframe\">\n",
       "  <thead>\n",
       "    <tr style=\"text-align: right;\">\n",
       "      <th></th>\n",
       "      <th>ME_CPROIN</th>\n",
       "    </tr>\n",
       "  </thead>\n",
       "  <tbody>\n",
       "    <tr>\n",
       "      <td>856</td>\n",
       "      <td>721378</td>\n",
       "    </tr>\n",
       "    <tr>\n",
       "      <td>1102</td>\n",
       "      <td>721378</td>\n",
       "    </tr>\n",
       "    <tr>\n",
       "      <td>1934</td>\n",
       "      <td>721378</td>\n",
       "    </tr>\n",
       "    <tr>\n",
       "      <td>2056</td>\n",
       "      <td>721378</td>\n",
       "    </tr>\n",
       "    <tr>\n",
       "      <td>2190</td>\n",
       "      <td>721378</td>\n",
       "    </tr>\n",
       "    <tr>\n",
       "      <td>...</td>\n",
       "      <td>...</td>\n",
       "    </tr>\n",
       "    <tr>\n",
       "      <td>54202</td>\n",
       "      <td>721378</td>\n",
       "    </tr>\n",
       "    <tr>\n",
       "      <td>54374</td>\n",
       "      <td>686646</td>\n",
       "    </tr>\n",
       "    <tr>\n",
       "      <td>54549</td>\n",
       "      <td>721378</td>\n",
       "    </tr>\n",
       "    <tr>\n",
       "      <td>55061</td>\n",
       "      <td>721378</td>\n",
       "    </tr>\n",
       "    <tr>\n",
       "      <td>55524</td>\n",
       "      <td>15186</td>\n",
       "    </tr>\n",
       "  </tbody>\n",
       "</table>\n",
       "<p>181 rows × 1 columns</p>\n",
       "</div>"
      ],
      "text/plain": [
       "       ME_CPROIN\n",
       "856       721378\n",
       "1102      721378\n",
       "1934      721378\n",
       "2056      721378\n",
       "2190      721378\n",
       "...          ...\n",
       "54202     721378\n",
       "54374     686646\n",
       "54549     721378\n",
       "55061     721378\n",
       "55524      15186\n",
       "\n",
       "[181 rows x 1 columns]"
      ]
     },
     "execution_count": 52,
     "metadata": {},
     "output_type": "execute_result"
    }
   ],
   "source": [
    "df[df.AR_VOLSPCB == 0][['ME_CPROIN']]"
   ]
  },
  {
   "cell_type": "code",
   "execution_count": 64,
   "metadata": {},
   "outputs": [
    {
     "data": {
      "text/plain": [
       "ME_NUMCDE\n",
       "1907001029350     73.0\n",
       "1907001029351    144.0\n",
       "1911000936089    144.0\n",
       "1911000936369      1.3\n",
       "1919000936720      0.8\n",
       "                 ...  \n",
       "PS00003P45        72.3\n",
       "PS00003P50         0.6\n",
       "PS00003P51         1.4\n",
       "PS00003P6F         4.4\n",
       "PS00003PB6        72.2\n",
       "Name: AR_VOLSPCB, Length: 1098, dtype: float64"
      ]
     },
     "execution_count": 64,
     "metadata": {},
     "output_type": "execute_result"
    }
   ],
   "source": [
    "df.groupby('ME_NUMCDE').median().AR_VOLSPCB"
   ]
  },
  {
   "cell_type": "code",
   "execution_count": 91,
   "metadata": {},
   "outputs": [
    {
     "data": {
      "text/plain": [
       "ME_LIVREA  ME_NUMCDE      TRUNC(ME_DATEXP)\n",
       "S790       1920000936762  05.17.2019           48.6\n",
       "           PA510004FG     12.10.2018          144.0\n",
       "           PM0002QD5H     12.10.2018          144.0\n",
       "           PO0015XPZ8     12.10.2018          144.0\n",
       "           PO00160AJ0     12.10.2018          144.0\n",
       "Name: AR_VOLSPCB, dtype: float64"
      ]
     },
     "execution_count": 91,
     "metadata": {},
     "output_type": "execute_result"
    }
   ],
   "source": [
    "df[df.ME_LIVREA == 'S790'].groupby(['ME_LIVREA','ME_NUMCDE', 'TRUNC(ME_DATEXP)']).mean().AR_VOLSPCB"
   ]
  },
  {
   "cell_type": "code",
   "execution_count": null,
   "metadata": {},
   "outputs": [],
   "source": [
    "[['ME_NUMCDE', 'ME_LIVREA', 'AR_VOLSPCB']]"
   ]
  }
 ],
 "metadata": {
  "kernelspec": {
   "display_name": "Python 3",
   "language": "python",
   "name": "python3"
  },
  "language_info": {
   "codemirror_mode": {
    "name": "ipython",
    "version": 3
   },
   "file_extension": ".py",
   "mimetype": "text/x-python",
   "name": "python",
   "nbconvert_exporter": "python",
   "pygments_lexer": "ipython3",
   "version": "3.7.1"
  }
 },
 "nbformat": 4,
 "nbformat_minor": 2
}
